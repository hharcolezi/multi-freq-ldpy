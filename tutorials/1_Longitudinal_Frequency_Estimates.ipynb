{
 "cells": [
  {
   "cell_type": "markdown",
   "id": "1b3955a6",
   "metadata": {},
   "source": [
    "## Common Libraries"
   ]
  },
  {
   "cell_type": "code",
   "execution_count": 1,
   "id": "02e8b5b5",
   "metadata": {},
   "outputs": [],
   "source": [
    "import matplotlib.pyplot as plt\n",
    "import matplotlib\n",
    "params = {'axes.titlesize':'16',\n",
    "          'xtick.labelsize':'16',\n",
    "          'ytick.labelsize':'16',\n",
    "          'font.size':'16',\n",
    "          'legend.fontsize':'medium',\n",
    "          'lines.linewidth':'2',\n",
    "          'font.weight':'normal',\n",
    "          'lines.markersize':'10'\n",
    "          }\n",
    "matplotlib.rcParams.update(params)\n",
    "plt.rcParams[\"mathtext.fontset\"] = \"cm\"\n",
    "plt.rc('font', family='serif')\n",
    "\n",
    "import numpy as np\n",
    "import pandas as pd\n",
    "from sklearn.metrics import mean_squared_error\n",
    "from sklearn.preprocessing import LabelEncoder"
   ]
  },
  {
   "cell_type": "markdown",
   "id": "bf43b3ac",
   "metadata": {},
   "source": [
    "## Importing Longitudinal Protocols from multi_freq_ldpy"
   ]
  },
  {
   "cell_type": "code",
   "execution_count": 2,
   "id": "92aabb89",
   "metadata": {},
   "outputs": [],
   "source": [
    "from multi_freq_ldpy.long_freq_est.L_GRR import *\n",
    "from multi_freq_ldpy.long_freq_est.L_OUE import *\n",
    "from multi_freq_ldpy.long_freq_est.L_OSUE import *\n",
    "from multi_freq_ldpy.long_freq_est.L_SUE import *\n",
    "from multi_freq_ldpy.long_freq_est.L_SOUE import *"
   ]
  },
  {
   "cell_type": "markdown",
   "id": "02d2dee8",
   "metadata": {},
   "source": [
    "## Reading Adult dataset with only 'age' attribute"
   ]
  },
  {
   "cell_type": "code",
   "execution_count": 3,
   "id": "96e6b7d6",
   "metadata": {
    "scrolled": true
   },
   "outputs": [
    {
     "data": {
      "text/html": [
       "<div>\n",
       "<style scoped>\n",
       "    .dataframe tbody tr th:only-of-type {\n",
       "        vertical-align: middle;\n",
       "    }\n",
       "\n",
       "    .dataframe tbody tr th {\n",
       "        vertical-align: top;\n",
       "    }\n",
       "\n",
       "    .dataframe thead th {\n",
       "        text-align: right;\n",
       "    }\n",
       "</style>\n",
       "<table border=\"1\" class=\"dataframe\">\n",
       "  <thead>\n",
       "    <tr style=\"text-align: right;\">\n",
       "      <th></th>\n",
       "      <th>age</th>\n",
       "    </tr>\n",
       "  </thead>\n",
       "  <tbody>\n",
       "    <tr>\n",
       "      <th>0</th>\n",
       "      <td>39</td>\n",
       "    </tr>\n",
       "    <tr>\n",
       "      <th>1</th>\n",
       "      <td>50</td>\n",
       "    </tr>\n",
       "    <tr>\n",
       "      <th>2</th>\n",
       "      <td>38</td>\n",
       "    </tr>\n",
       "    <tr>\n",
       "      <th>3</th>\n",
       "      <td>53</td>\n",
       "    </tr>\n",
       "    <tr>\n",
       "      <th>4</th>\n",
       "      <td>28</td>\n",
       "    </tr>\n",
       "    <tr>\n",
       "      <th>...</th>\n",
       "      <td>...</td>\n",
       "    </tr>\n",
       "    <tr>\n",
       "      <th>45217</th>\n",
       "      <td>33</td>\n",
       "    </tr>\n",
       "    <tr>\n",
       "      <th>45218</th>\n",
       "      <td>39</td>\n",
       "    </tr>\n",
       "    <tr>\n",
       "      <th>45219</th>\n",
       "      <td>38</td>\n",
       "    </tr>\n",
       "    <tr>\n",
       "      <th>45220</th>\n",
       "      <td>44</td>\n",
       "    </tr>\n",
       "    <tr>\n",
       "      <th>45221</th>\n",
       "      <td>35</td>\n",
       "    </tr>\n",
       "  </tbody>\n",
       "</table>\n",
       "<p>45222 rows × 1 columns</p>\n",
       "</div>"
      ],
      "text/plain": [
       "       age\n",
       "0       39\n",
       "1       50\n",
       "2       38\n",
       "3       53\n",
       "4       28\n",
       "...    ...\n",
       "45217   33\n",
       "45218   39\n",
       "45219   38\n",
       "45220   44\n",
       "45221   35\n",
       "\n",
       "[45222 rows x 1 columns]"
      ]
     },
     "execution_count": 3,
     "metadata": {},
     "output_type": "execute_result"
    }
   ],
   "source": [
    "df = pd.read_csv('datasets/db_adults.csv', usecols=['age'])\n",
    "df"
   ]
  },
  {
   "cell_type": "markdown",
   "id": "f8b8ebd7",
   "metadata": {},
   "source": [
    "## Encoding values"
   ]
  },
  {
   "cell_type": "code",
   "execution_count": 4,
   "id": "c978aedb",
   "metadata": {
    "scrolled": false
   },
   "outputs": [
    {
     "data": {
      "text/html": [
       "<div>\n",
       "<style scoped>\n",
       "    .dataframe tbody tr th:only-of-type {\n",
       "        vertical-align: middle;\n",
       "    }\n",
       "\n",
       "    .dataframe tbody tr th {\n",
       "        vertical-align: top;\n",
       "    }\n",
       "\n",
       "    .dataframe thead th {\n",
       "        text-align: right;\n",
       "    }\n",
       "</style>\n",
       "<table border=\"1\" class=\"dataframe\">\n",
       "  <thead>\n",
       "    <tr style=\"text-align: right;\">\n",
       "      <th></th>\n",
       "      <th>age</th>\n",
       "    </tr>\n",
       "  </thead>\n",
       "  <tbody>\n",
       "    <tr>\n",
       "      <th>0</th>\n",
       "      <td>22</td>\n",
       "    </tr>\n",
       "    <tr>\n",
       "      <th>1</th>\n",
       "      <td>33</td>\n",
       "    </tr>\n",
       "    <tr>\n",
       "      <th>2</th>\n",
       "      <td>21</td>\n",
       "    </tr>\n",
       "    <tr>\n",
       "      <th>3</th>\n",
       "      <td>36</td>\n",
       "    </tr>\n",
       "    <tr>\n",
       "      <th>4</th>\n",
       "      <td>11</td>\n",
       "    </tr>\n",
       "    <tr>\n",
       "      <th>...</th>\n",
       "      <td>...</td>\n",
       "    </tr>\n",
       "    <tr>\n",
       "      <th>45217</th>\n",
       "      <td>16</td>\n",
       "    </tr>\n",
       "    <tr>\n",
       "      <th>45218</th>\n",
       "      <td>22</td>\n",
       "    </tr>\n",
       "    <tr>\n",
       "      <th>45219</th>\n",
       "      <td>21</td>\n",
       "    </tr>\n",
       "    <tr>\n",
       "      <th>45220</th>\n",
       "      <td>27</td>\n",
       "    </tr>\n",
       "    <tr>\n",
       "      <th>45221</th>\n",
       "      <td>18</td>\n",
       "    </tr>\n",
       "  </tbody>\n",
       "</table>\n",
       "<p>45222 rows × 1 columns</p>\n",
       "</div>"
      ],
      "text/plain": [
       "       age\n",
       "0       22\n",
       "1       33\n",
       "2       21\n",
       "3       36\n",
       "4       11\n",
       "...    ...\n",
       "45217   16\n",
       "45218   22\n",
       "45219   21\n",
       "45220   27\n",
       "45221   18\n",
       "\n",
       "[45222 rows x 1 columns]"
      ]
     },
     "execution_count": 4,
     "metadata": {},
     "output_type": "execute_result"
    }
   ],
   "source": [
    "LE = LabelEncoder()\n",
    "\n",
    "df['age'] = LE.fit_transform(df['age'])\n",
    "df"
   ]
  },
  {
   "cell_type": "markdown",
   "id": "4246ca21",
   "metadata": {},
   "source": [
    "## Static Parameteres"
   ]
  },
  {
   "cell_type": "code",
   "execution_count": 5,
   "id": "48e8a5f2",
   "metadata": {
    "scrolled": false
   },
   "outputs": [
    {
     "name": "stdout",
     "output_type": "stream",
     "text": [
      "Number of Users = 45222\n",
      "\n",
      "Attribute's domain size = 74\n",
      "\n",
      "Privacy guarantees:\n",
      "List of epsilon_perm = [0.5 1.  1.5 2.  2.5 3.  3.5 4.  4.5 5. ]\n",
      "List of epsilon_1 = [0.25 0.5  0.75 1.   1.25 1.5  1.75 2.   2.25 2.5 ]\n"
     ]
    }
   ],
   "source": [
    "# number of users (n)\n",
    "n = df.shape[0]\n",
    "print('Number of Users =',n)\n",
    "\n",
    "# attribute's domain size\n",
    "k = len(set(df['age']))\n",
    "print(\"\\nAttribute's domain size =\", k)\n",
    "\n",
    "print(\"\\nPrivacy guarantees:\")\n",
    "\n",
    "# upper bound (infinity reports)\n",
    "lst_eps_perm = np.arange(0.5, 5.1,0.5)\n",
    "print(\"List of epsilon_perm =\", lst_eps_perm)\n",
    "\n",
    "#lower bound (single report)\n",
    "lst_eps_1 = lst_eps_perm * 0.5\n",
    "print(\"List of epsilon_1 =\", lst_eps_1)"
   ]
  },
  {
   "cell_type": "markdown",
   "id": "f25c6455",
   "metadata": {},
   "source": [
    "## Comparison of longitudinal protocols"
   ]
  },
  {
   "cell_type": "code",
   "execution_count": 11,
   "id": "89f88870",
   "metadata": {},
   "outputs": [
    {
     "data": {
      "text/plain": [
       "{0: {'L_GRR': [], 'L_OUE': [], 'L_OSUE': [], 'L_SUE': [], 'L_SOUE': []},\n",
       " 1: {'L_GRR': [], 'L_OUE': [], 'L_OSUE': [], 'L_SUE': [], 'L_SOUE': []},\n",
       " 2: {'L_GRR': [], 'L_OUE': [], 'L_OSUE': [], 'L_SUE': [], 'L_SOUE': []},\n",
       " 3: {'L_GRR': [], 'L_OUE': [], 'L_OSUE': [], 'L_SUE': [], 'L_SOUE': []},\n",
       " 4: {'L_GRR': [], 'L_OUE': [], 'L_OSUE': [], 'L_SUE': [], 'L_SOUE': []},\n",
       " 5: {'L_GRR': [], 'L_OUE': [], 'L_OSUE': [], 'L_SUE': [], 'L_SOUE': []},\n",
       " 6: {'L_GRR': [], 'L_OUE': [], 'L_OSUE': [], 'L_SUE': [], 'L_SOUE': []},\n",
       " 7: {'L_GRR': [], 'L_OUE': [], 'L_OSUE': [], 'L_SUE': [], 'L_SOUE': []},\n",
       " 8: {'L_GRR': [], 'L_OUE': [], 'L_OSUE': [], 'L_SUE': [], 'L_SOUE': []},\n",
       " 9: {'L_GRR': [], 'L_OUE': [], 'L_OSUE': [], 'L_SUE': [], 'L_SOUE': []}}"
      ]
     },
     "execution_count": 11,
     "metadata": {},
     "output_type": "execute_result"
    }
   ],
   "source": [
    "# Real normalized frequency\n",
    "real_freq = np.unique(df, return_counts=True)[-1] / n\n",
    "\n",
    "# Repeat nb_seed times since DP protocols are randomized\n",
    "nb_seed = 10\n",
    "\n",
    "# Save Mean Squared Error (MSE) between real and estimated frequencies per seed\n",
    "dic_mse = {seed: \n",
    "           {\"L_GRR\": [],\n",
    "           \"L_OUE\": [],\n",
    "           \"L_OSUE\": [],\n",
    "           \"L_SUE\": [],\n",
    "           \"L_SOUE\": [],\n",
    "           } \n",
    "           for seed in range(nb_seed)\n",
    "          }\n",
    "dic_mse"
   ]
  },
  {
   "cell_type": "markdown",
   "id": "9e0ceda4",
   "metadata": {},
   "source": [
    "## Start execution"
   ]
  },
  {
   "cell_type": "code",
   "execution_count": 12,
   "id": "cadd16e7",
   "metadata": {
    "scrolled": true
   },
   "outputs": [
    {
     "name": "stdout",
     "output_type": "stream",
     "text": [
      "Starting w/ seed: 0\n",
      "Starting w/ seed: 1\n",
      "Starting w/ seed: 2\n",
      "Starting w/ seed: 3\n",
      "Starting w/ seed: 4\n",
      "Starting w/ seed: 5\n",
      "Starting w/ seed: 6\n",
      "Starting w/ seed: 7\n",
      "Starting w/ seed: 8\n",
      "Starting w/ seed: 9\n"
     ]
    }
   ],
   "source": [
    "for seed in range(nb_seed):\n",
    "    print('Starting w/ seed:', seed)\n",
    "\n",
    "    for idx_eps in range(len(lst_eps_perm)):\n",
    "\n",
    "        eps_perm = lst_eps_perm[idx_eps]\n",
    "        eps_1 = lst_eps_1[idx_eps]\n",
    "\n",
    "        # L_GRR protocol\n",
    "        l_grr_reports = [L_GRR_Client(input_data, k, eps_perm, eps_1) for input_data in df['age']]\n",
    "        l_grr_est_freq = np.nan_to_num(L_GRR_Aggregator(l_grr_reports, k, eps_perm, eps_1))\n",
    "        dic_mse[seed][\"L_GRR\"].append(mean_squared_error(real_freq, l_grr_est_freq))\n",
    "\n",
    "        # L_OUE protocol\n",
    "        l_oue_reports = [L_OUE_Client(input_data, k, eps_perm, eps_1) for input_data in df['age']]\n",
    "        l_oue_est_freq = np.nan_to_num(L_OUE_Aggregator(l_oue_reports, eps_perm, eps_1))\n",
    "        dic_mse[seed][\"L_OUE\"].append(mean_squared_error(real_freq, l_oue_est_freq))\n",
    "\n",
    "        # L_OSUE protocol\n",
    "        l_osue_reports = [L_OSUE_Client(input_data, k, eps_perm, eps_1) for input_data in df['age']]\n",
    "        l_osue_est_freq = np.nan_to_num(L_OSUE_Aggregator(l_osue_reports, eps_perm, eps_1))\n",
    "        dic_mse[seed][\"L_OSUE\"].append(mean_squared_error(real_freq, l_osue_est_freq))\n",
    "\n",
    "        # L_SUE protocol\n",
    "        l_sue_reports = [L_SUE_Client(input_data, k, eps_perm, eps_1) for input_data in df['age']]\n",
    "        l_sue_est_freq = np.nan_to_num(L_SUE_Aggregator(l_sue_reports, eps_perm, eps_1))\n",
    "        dic_mse[seed][\"L_SUE\"].append(mean_squared_error(real_freq, l_sue_est_freq))\n",
    "\n",
    "        # L_SOUE protocol\n",
    "        l_soue_reports = [L_SOUE_Client(input_data, k, eps_perm, eps_1) for input_data in df['age']]\n",
    "        l_soue_est_freq = np.nan_to_num(L_SOUE_Aggregator(l_soue_reports, eps_perm, eps_1))\n",
    "        dic_mse[seed][\"L_SOUE\"].append(mean_squared_error(real_freq, l_soue_est_freq))"
   ]
  },
  {
   "cell_type": "markdown",
   "id": "8c7e5b32",
   "metadata": {},
   "source": [
    "## Plotting metrics results"
   ]
  },
  {
   "cell_type": "code",
   "execution_count": 31,
   "id": "e909e02c",
   "metadata": {},
   "outputs": [
    {
     "data": {
      "image/png": "[encoded data removed]",
      "text/plain": [
       "<Figure size 800x500 with 1 Axes>"
      ]
     },
     "metadata": {},
     "output_type": "display_data"
    }
   ],
   "source": [
    "plt.figure(figsize=(8,5))\n",
    "plt.grid(color='grey', linestyle='dashdot', linewidth=0.5)\n",
    "plt.plot(np.mean([dic_mse[seed][\"L_GRR\"] for seed in range(nb_seed)], axis=0), label='L-GRR', marker='o')\n",
    "plt.plot(np.mean([dic_mse[seed][\"L_OUE\"] for seed in range(nb_seed)], axis=0), label='L-OUE',marker='>',linestyle='dashed')\n",
    "plt.plot(np.mean([dic_mse[seed][\"L_OSUE\"] for seed in range(nb_seed)], axis=0), label='L-OSUE',marker='s',linestyle='dotted')\n",
    "plt.plot(np.mean([dic_mse[seed][\"L_SUE\"] for seed in range(nb_seed)], axis=0), label='L-SUE', marker='D', linestyle=(0, (3, 10, 1, 10)))\n",
    "plt.plot(np.mean([dic_mse[seed][\"L_SOUE\"] for seed in range(nb_seed)], axis=0), label='L-SOUE',marker='d',linestyle=(0, (5, 10)))\n",
    "\n",
    "plt.yscale('log')\n",
    "plt.xlabel('$\\epsilon_{perm}$')\n",
    "plt.ylabel('Mean Squared Error (MSE)')\n",
    "plt.xticks(range(len(lst_eps_perm)), lst_eps_perm)\n",
    "plt.legend(ncol=2)\n",
    "plt.show()"
   ]
  },
  {
   "cell_type": "code",
   "execution_count": null,
   "id": "1be9f4da",
   "metadata": {},
   "outputs": [],
   "source": []
  }
 ],
 "metadata": {
  "kernelspec": {
   "display_name": "Python [conda env:my_ppkg]",
   "language": "python",
   "name": "conda-env-my_ppkg-py"
  },
  "language_info": {
   "codemirror_mode": {
    "name": "ipython",
    "version": 3
   },
   "file_extension": ".py",
   "mimetype": "text/x-python",
   "name": "python",
   "nbconvert_exporter": "python",
   "pygments_lexer": "ipython3",
   "version": "3.7.13"
  }
 },
 "nbformat": 4,
 "nbformat_minor": 5
}
